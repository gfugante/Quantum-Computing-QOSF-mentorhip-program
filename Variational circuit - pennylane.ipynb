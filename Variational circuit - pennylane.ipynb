{
 "cells": [
  {
   "cell_type": "markdown",
   "id": "94858fdc",
   "metadata": {},
   "source": [
    "# Exercise 2 - QOSF Mentorship program"
   ]
  },
  {
   "cell_type": "markdown",
   "id": "2e7fc809",
   "metadata": {},
   "source": [
    "<hr>\n",
    "\n",
    "**Task:**\n",
    "* Prepare 4 random 4-qubit quantum states of your choice.\n",
    "- Create and train a variational circuit that transforms input states into predefined output states. Namely\n",
    "  - if random state 1 is provided, it returns state |0011>\n",
    "  - if random state 2 is provided, it returns state |0101>\n",
    "  - if random state 3 is provided, it returns state |1010>\n",
    "  - if random state 4 is provided, it returns state |1100>\n",
    "- What would happen if you provided a different state?\n",
    "\n",
    "Analyze and discuss the results.\n",
    "\n",
    "<hr>"
   ]
  },
  {
   "cell_type": "markdown",
   "id": "e6325d60",
   "metadata": {},
   "source": [
    "## Solution"
   ]
  },
  {
   "cell_type": "code",
   "execution_count": 1,
   "id": "929a3562",
   "metadata": {},
   "outputs": [],
   "source": [
    "# import modules\n",
    "import pennylane as qml\n",
    "import numpy as np\n",
    "import torch\n",
    "from torch.autograd import Variable\n",
    "from torch.nn.functional import normalize"
   ]
  },
  {
   "cell_type": "code",
   "execution_count": 2,
   "id": "024856bc",
   "metadata": {},
   "outputs": [],
   "source": [
    "# circuit characteristics of the circuit\n",
    "nr_qubits = 4\n",
    "nr_layers = 1\n",
    "nr_params = 6"
   ]
  },
  {
   "cell_type": "code",
   "execution_count": 3,
   "id": "c3c5fa43",
   "metadata": {},
   "outputs": [],
   "source": [
    "# function to create the normalized random input states\n",
    "def create_input_state(qubits_states):\n",
    "\n",
    "    if len(qubits_states) != nr_qubits:\n",
    "        print('Error: expected {} qubits states, {} where provided.'.format(nr_qubits, len(qubits_states)))\n",
    "        return\n",
    "    \n",
    "    normalized_states = [normalize(q, p=2, dim=0) for q in qubits_states]\n",
    "\n",
    "    input_state = torch.kron(normalized_states[0], normalized_states[1])\n",
    "    \n",
    "    for i in range(2, nr_qubits):\n",
    "        input_state = torch.kron(input_state, normalized_states[i])\n",
    "    \n",
    "    return input_state"
   ]
  },
  {
   "cell_type": "code",
   "execution_count": 4,
   "id": "f05f5d5b",
   "metadata": {},
   "outputs": [],
   "source": [
    "# input and target states definition\n",
    "\n",
    "zero = torch.tensor([1., 0.])\n",
    "one  = torch.tensor([0., 1.])\n",
    "\n",
    "\n",
    "# random input states (in computational basis)\n",
    "input_states = {}\n",
    "\n",
    "for i in range(4):\n",
    "    input_states[i] = create_input_state([torch.rand(2) + torch.rand(2)*1.j for _ in range(nr_qubits)])\n",
    "'''\n",
    "input_states[0] = create_input_state([one, zero, zero, zero])\n",
    "input_states[1] = create_input_state([zero, one, zero, zero])\n",
    "input_states[2] = create_input_state([zero, zero, one, zero])\n",
    "input_states[3] = create_input_state([zero, zero, zero, zero])\n",
    "'''\n",
    "\n",
    "# target output states (on the bloch sphere)\n",
    "zero = [0., 0.,  1.]\n",
    "one  = [0., 0., -1.]\n",
    "\n",
    "target_states = {}\n",
    "\n",
    "target_states[0] = torch.tensor([zero, zero, one, one])\n",
    "target_states[1] = torch.tensor([zero, one, zero, one])\n",
    "target_states[2] = torch.tensor([one, zero, one, zero])\n",
    "target_states[3] = torch.tensor([one, one, zero, zero])\n",
    "\n",
    "nr_states = len(target_states)\n",
    "\n",
    "# normalization of each target state\n",
    "for target_state in target_states.values():\n",
    "    for i in range(len(target_state)):\n",
    "        target_state[i] = normalize(target_state[i], p=2, dim=0)\n",
    "        \n",
    "# wrap input and target states in a useful structure\n",
    "states = {}\n",
    "for i in range(len(target_states)):\n",
    "    states[i] = {'input': input_states[i],\n",
    "                 'target': target_states[i]}"
   ]
  },
  {
   "cell_type": "code",
   "execution_count": 5,
   "id": "33f95644",
   "metadata": {},
   "outputs": [],
   "source": [
    "# array of Pauli matrices\n",
    "Paulis = Variable(torch.zeros([3, 2, 2], dtype=torch.complex128), requires_grad=False)\n",
    "Paulis[0] = torch.tensor([[0, 1], [1, 0]])\n",
    "Paulis[1] = torch.tensor([[0, -1j], [1j, 0]])\n",
    "Paulis[2] = torch.tensor([[1, 0], [0, -1]])"
   ]
  },
  {
   "cell_type": "code",
   "execution_count": 6,
   "id": "fb2b422f",
   "metadata": {},
   "outputs": [],
   "source": [
    "# initialize parameters to random values\n",
    "params = np.random.uniform(0, np.pi, (nr_qubits, nr_layers, nr_params))\n",
    "params = Variable(torch.tensor(params), requires_grad=True)"
   ]
  },
  {
   "cell_type": "code",
   "execution_count": 7,
   "id": "58118c55",
   "metadata": {},
   "outputs": [],
   "source": [
    "# definition of different layers to be applied in the circuit\n",
    "def rotation_layer(params, j):\n",
    "    for i in range(nr_qubits):\n",
    "        qml.RX(params[i, j, 0], wires=i)\n",
    "        qml.RY(params[i, j, 1], wires=i)\n",
    "\n",
    "def crot_layer(params, j):    \n",
    "    for i in range(nr_qubits):\n",
    "        for k in range(i+1, nr_qubits):\n",
    "            qml.CRX(params[i, j, 2], wires=[i, k])\n",
    "            qml.CRX(params[i, j, 3], wires=[k, i])\n",
    "            qml.CRY(params[i, j, 4], wires=[k, i])\n",
    "            qml.CRY(params[i, j, 5], wires=[i, k])\n",
    "                \n",
    "def cnot_layer():\n",
    "    for i in range(nr_qubits - 1):\n",
    "        qml.CNOT(wires=[i, i+1])\n",
    "        "
   ]
  },
  {
   "cell_type": "code",
   "execution_count": 8,
   "id": "2b5ffdbd",
   "metadata": {},
   "outputs": [],
   "source": [
    "# select device\n",
    "dev = qml.device(\"default.qubit\", wires=nr_qubits)"
   ]
  },
  {
   "cell_type": "code",
   "execution_count": 9,
   "id": "74c76d9f",
   "metadata": {},
   "outputs": [],
   "source": [
    "# circuit definition\n",
    "@qml.qnode(dev, interface=\"torch\")\n",
    "def circuit(params, A, wire, input_state):\n",
    "\n",
    "    qml.QubitStateVector(input_state, wires=range(nr_qubits))\n",
    "    \n",
    "    \n",
    "    # apply layers in the circuit\n",
    "    for j in range(nr_layers):\n",
    "        rotation_layer(params, j)\n",
    "        cnot_layer()\n",
    "        crot_layer(params, j)\n",
    "            \n",
    "    # returns the expectation of the input matrix A on the given wire\n",
    "    return qml.expval(qml.Hermitian(A, wires=wire))"
   ]
  },
  {
   "cell_type": "code",
   "execution_count": 10,
   "id": "04a3abf8",
   "metadata": {},
   "outputs": [],
   "source": [
    "# cost function for single computed and target couple states\n",
    "def cost_fn_single_state(params, state):\n",
    "    cost = 0\n",
    "    for wire in range(nr_qubits):\n",
    "        for k in range(3):\n",
    "            cost += torch.abs(circuit(params, Paulis[k], wire, state['input']) - state['target'][wire][k])            \n",
    "\n",
    "    return cost / nr_qubits"
   ]
  },
  {
   "cell_type": "code",
   "execution_count": 11,
   "id": "3ce3e1ae",
   "metadata": {},
   "outputs": [],
   "source": [
    "# cost function\n",
    "# cost is the sum of the difference between each pair of computed and target states \n",
    "def cost_fn(params):\n",
    "    cost = 0\n",
    "    for state in states.values():\n",
    "        cost += cost_fn_single_state(params, state)\n",
    "\n",
    "    return cost / nr_states"
   ]
  },
  {
   "cell_type": "markdown",
   "id": "b242659b",
   "metadata": {},
   "source": [
    "The following cells contain the code for the optimization. They are meant to executed multiple times, manually lowering the learning rate: this example has been trained starting from $lr = 0.1$ and finishing at $lr = 0.001$."
   ]
  },
  {
   "cell_type": "code",
   "execution_count": 12,
   "id": "2ceda4b3",
   "metadata": {},
   "outputs": [],
   "source": [
    "total_steps = 0\n",
    "\n",
    "# the final stage of optimization isn't always the best, so we keep track of\n",
    "# the best parameters along the way\n",
    "best_cost = cost_fn(params)\n",
    "best_params = params"
   ]
  },
  {
   "cell_type": "code",
   "execution_count": null,
   "id": "b9080eb9",
   "metadata": {},
   "outputs": [],
   "source": [
    "# Optimization\n",
    "# set up the optimizer\n",
    "opt = torch.optim.Adam([params], lr=0.1)\n",
    "\n",
    "# number of steps in the optimization routine\n",
    "steps = 100\n",
    "\n",
    "# optimization begins\n",
    "for n in range(steps):\n",
    "    opt.zero_grad()\n",
    "    loss = cost_fn(params)\n",
    "    loss.backward()\n",
    "    opt.step()\n",
    "    \n",
    "    # keeps track of best parameters\n",
    "    if loss < best_cost:\n",
    "        best_cost = loss\n",
    "        best_params = params\n",
    "\n",
    "    # Keep track of progress every 10 steps\n",
    "    #if n % 10 == 9 or n == steps - 1:\n",
    "    print(\"Best cost after {} steps is {:.4f}\".format(total_steps + n + 1, best_cost))\n",
    "    \n",
    "params = best_params\n",
    "total_steps += steps"
   ]
  },
  {
   "cell_type": "markdown",
   "id": "c12a5863",
   "metadata": {},
   "source": [
    "Here it follows a comparison between the output states from the trained circuit and the target states. Results are not always correct, possibly due to the circuit structure and the small number of parameters."
   ]
  },
  {
   "cell_type": "code",
   "execution_count": 14,
   "id": "1518aea9",
   "metadata": {},
   "outputs": [
    {
     "name": "stdout",
     "output_type": "stream",
     "text": [
      "Results for input/target states number 1\n",
      "Target Bloch vector: \n",
      " tensor([[ 0.,  0.,  1.],\n",
      "        [ 0.,  0.,  1.],\n",
      "        [ 0.,  0., -1.],\n",
      "        [ 0.,  0., -1.]])\n",
      "Output Bloch vector: \n",
      " tensor([[-0.2281,  0.2725,  0.9347],\n",
      "        [-0.2641,  0.0514,  0.9631],\n",
      "        [ 0.0436, -0.1491, -0.9879],\n",
      "        [ 0.0118,  0.0277, -0.9995]], grad_fn=<CopySlices>)\n",
      "Cost =  0.713364890870345\n",
      "\n",
      "\n",
      "Results for input/target states number 2\n",
      "Target Bloch vector: \n",
      " tensor([[ 0.,  0.,  1.],\n",
      "        [ 0.,  0., -1.],\n",
      "        [ 0.,  0.,  1.],\n",
      "        [ 0.,  0., -1.]])\n",
      "Output Bloch vector: \n",
      " tensor([[-0.0846,  0.7342,  0.6736],\n",
      "        [ 0.0533,  0.6494, -0.7586],\n",
      "        [ 0.9183,  0.0908, -0.3854],\n",
      "        [ 0.0580, -0.6551, -0.7534]], grad_fn=<CopySlices>)\n",
      "Cost =  1.0786525638434856\n",
      "\n",
      "\n",
      "Results for input/target states number 3\n",
      "Target Bloch vector: \n",
      " tensor([[ 0.,  0., -1.],\n",
      "        [ 0.,  0.,  1.],\n",
      "        [ 0.,  0., -1.],\n",
      "        [ 0.,  0.,  1.]])\n",
      "Output Bloch vector: \n",
      " tensor([[-0.1615, -0.4640, -0.8710],\n",
      "        [-0.0749, -0.0178,  0.9970],\n",
      "        [-0.1123, -0.0021, -0.9937],\n",
      "        [-0.0967,  0.8647, -0.4928]], grad_fn=<CopySlices>)\n",
      "Cost =  1.038267357626521\n",
      "\n",
      "\n",
      "Results for input/target states number 4\n",
      "Target Bloch vector: \n",
      " tensor([[ 0.,  0., -1.],\n",
      "        [ 0.,  0., -1.],\n",
      "        [ 0.,  0.,  1.],\n",
      "        [ 0.,  0.,  1.]])\n",
      "Output Bloch vector: \n",
      " tensor([[-0.6315,  0.1345, -0.7636],\n",
      "        [-0.6803, -0.0181, -0.7327],\n",
      "        [-0.3735, -0.0745,  0.9246],\n",
      "        [-0.0169, -0.5566, -0.8306]], grad_fn=<CopySlices>)\n",
      "Cost =  1.066565969384099\n",
      "\n",
      "\n"
     ]
    }
   ],
   "source": [
    "# calculate the Bloch vector of the output states and confront with target states\n",
    "output_state = [torch.zeros((nr_qubits, 3)) for _ in range(nr_states)]\n",
    "for key, state in states.items():\n",
    "    for wire in range(nr_qubits):\n",
    "        for l in range(3):\n",
    "            output_state[key][wire][l] = circuit(best_params, Paulis[l], wire, state['input'])\n",
    "\n",
    "    for i in range(len(output_state[key])):\n",
    "        output_state[key][i] = normalize(output_state[key][i], p=2, dim=0)\n",
    "\n",
    "    # print results\n",
    "    print('Results for input/target states number {}'.format(key+1))\n",
    "    print(\"Target Bloch vector: \\n\", target_states[key])\n",
    "    print(\"Output Bloch vector: \\n\", output_state[key])\n",
    "    print(\"Cost = \", float(cost_fn_single_state(best_params, states[key])))\n",
    "    print('\\n')"
   ]
  },
  {
   "cell_type": "code",
   "execution_count": 15,
   "id": "8b77c988",
   "metadata": {},
   "outputs": [
    {
     "name": "stdout",
     "output_type": "stream",
     "text": [
      "tensor([[[ 1.7134, -0.0705,  1.5856,  0.9543,  1.1344,  2.7869]],\n",
      "\n",
      "        [[ 0.9208,  1.2785,  2.4886,  3.0529,  1.1519,  0.6474]],\n",
      "\n",
      "        [[ 0.9173,  2.0862,  2.7326,  2.0511,  1.8842,  1.0658]],\n",
      "\n",
      "        [[ 0.9805,  1.3092,  0.7695,  0.0805,  0.4428,  2.0019]]],\n",
      "       dtype=torch.float64, requires_grad=True)\n"
     ]
    }
   ],
   "source": [
    "print(best_params)"
   ]
  },
  {
   "cell_type": "markdown",
   "id": "2e1f8e55",
   "metadata": {},
   "source": [
    "<hr>\n",
    "\n",
    "**What would happen if you provided a different state?**\n",
    "\n",
    "The target states given by the task are linearly independent and constitutes a basis for a subspace of dimention 4 in the computational basis, which has dimention $2^{nr\\_qubits} = 16$. The same holds for the random input states, except that it's not guaranteed that they all are linearly independent, and we can extract a basis of at most 4 vectors.\n",
    "\n",
    "The unitary map implemented by the circuit is then defined between theese two basis, but random elsewhere. If a new random state is provided, its components on the input basis are mapped to respective states in the target basis, with the same linear combination, while other components are mapped to fixed but random states."
   ]
  }
 ],
 "metadata": {
  "kernelspec": {
   "display_name": "Python 3",
   "language": "python",
   "name": "python3"
  },
  "language_info": {
   "codemirror_mode": {
    "name": "ipython",
    "version": 3
   },
   "file_extension": ".py",
   "mimetype": "text/x-python",
   "name": "python",
   "nbconvert_exporter": "python",
   "pygments_lexer": "ipython3",
   "version": "3.8.8"
  },
  "varInspector": {
   "cols": {
    "lenName": 16,
    "lenType": 16,
    "lenVar": 40
   },
   "kernels_config": {
    "python": {
     "delete_cmd_postfix": "",
     "delete_cmd_prefix": "del ",
     "library": "var_list.py",
     "varRefreshCmd": "print(var_dic_list())"
    },
    "r": {
     "delete_cmd_postfix": ") ",
     "delete_cmd_prefix": "rm(",
     "library": "var_list.r",
     "varRefreshCmd": "cat(var_dic_list()) "
    }
   },
   "types_to_exclude": [
    "module",
    "function",
    "builtin_function_or_method",
    "instance",
    "_Feature"
   ],
   "window_display": false
  }
 },
 "nbformat": 4,
 "nbformat_minor": 5
}
