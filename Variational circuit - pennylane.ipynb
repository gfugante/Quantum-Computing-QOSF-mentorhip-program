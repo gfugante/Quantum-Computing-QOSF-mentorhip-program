{
 "cells": [
  {
   "cell_type": "code",
   "execution_count": 1,
   "id": "929a3562",
   "metadata": {},
   "outputs": [],
   "source": [
    "import pennylane as qml\n",
    "import numpy as np\n",
    "import torch\n",
    "from torch.autograd import Variable\n",
    "from torch.nn.functional import normalize\n",
    "np.random.seed(42)"
   ]
  },
  {
   "cell_type": "code",
   "execution_count": 2,
   "id": "024856bc",
   "metadata": {},
   "outputs": [],
   "source": [
    "# number of qubits in the circuit\n",
    "nr_qubits = 4\n",
    "# number of layers in the circuit\n",
    "nr_layers = 2\n",
    "# number of parameters in the circuit\n",
    "nr_params = 4"
   ]
  },
  {
   "cell_type": "code",
   "execution_count": 3,
   "id": "c3c5fa43",
   "metadata": {},
   "outputs": [],
   "source": [
    "# function to create the normalized random input states\n",
    "def create_input_state(qubits_states):\n",
    "\n",
    "    if len(qubits_states) != nr_qubits:\n",
    "        print('Error: expected {} qubits states, {} where provided.'.format(nr_qubits, len(qubits_states)))\n",
    "        return\n",
    "    \n",
    "    normalized_states = [normalize(q, p=2, dim=0) for q in qubits_states]\n",
    "\n",
    "    input_state = torch.kron(normalized_states[0], normalized_states[1])\n",
    "    \n",
    "    for i in range(2, nr_qubits):\n",
    "        input_state = torch.kron(input_state, normalized_states[i])\n",
    "    \n",
    "    return input_state"
   ]
  },
  {
   "cell_type": "code",
   "execution_count": 4,
   "id": "f05f5d5b",
   "metadata": {},
   "outputs": [],
   "source": [
    "# input and target states definition\n",
    "\n",
    "zero = torch.tensor([1., 0.])\n",
    "one  = torch.tensor([0., 1.])\n",
    "\n",
    "\n",
    "input_states = {}\n",
    "\n",
    "# random input states in the computational basis\n",
    "for i in range(4):\n",
    "    input_states[i] = create_input_state([torch.rand(2) + torch.rand(2)*1.j for _ in range(nr_qubits)])\n",
    "'''\n",
    "input_states[0] = create_input_state([one, zero, zero, zero])\n",
    "input_states[1] = create_input_state([zero, one, zero, zero])\n",
    "input_states[2] = create_input_state([zero, zero, one, zero])\n",
    "input_states[3] = create_input_state([zero, zero, zero, zero])\n",
    "'''\n",
    "\n",
    "# desired output states, as represented on the bloch sphere\n",
    "zero = [0., 0.,  1.]\n",
    "one  = [0., 0., -1.]\n",
    "\n",
    "target_states = {}\n",
    "\n",
    "target_states[0] = torch.tensor([zero, zero, one, one])\n",
    "target_states[1] = torch.tensor([zero, one, zero, one])\n",
    "target_states[2] = torch.tensor([one, zero, one, zero])\n",
    "target_states[3] = torch.tensor([one, one, zero, zero])\n",
    "\n",
    "nr_states = len(target_states)\n",
    "\n",
    "# normalization of each target state\n",
    "for target_state in target_states.values():\n",
    "    for i in range(len(target_state)):\n",
    "        target_state[i] = normalize(target_state[i], p=2, dim=0)\n",
    "        \n",
    "# wrap input and target states in a useful structure\n",
    "states = {}\n",
    "for i in range(len(target_states)):\n",
    "    states[i] = {'input': input_states[i],\n",
    "                 'target': target_states[i]}\n",
    "\n",
    "\n",
    "# array of Pauli matrices (will be useful later)\n",
    "Paulis = Variable(torch.zeros([3, 2, 2], dtype=torch.complex128), requires_grad=False)\n",
    "Paulis[0] = torch.tensor([[0, 1], [1, 0]])\n",
    "Paulis[1] = torch.tensor([[0, -1j], [1j, 0]])\n",
    "Paulis[2] = torch.tensor([[1, 0], [0, -1]])"
   ]
  },
  {
   "cell_type": "code",
   "execution_count": 5,
   "id": "fb2b422f",
   "metadata": {},
   "outputs": [],
   "source": [
    "# initialize parameters to random values\n",
    "params = np.random.uniform(0, np.pi, (nr_qubits, nr_layers, nr_params))\n",
    "params = Variable(torch.tensor(params), requires_grad=True)"
   ]
  },
  {
   "cell_type": "code",
   "execution_count": 6,
   "id": "58118c55",
   "metadata": {},
   "outputs": [],
   "source": [
    "# definition of one layer of the circuit\n",
    "def rotation_layer(params, j):\n",
    "    for i in range(nr_qubits):\n",
    "        qml.RX(params[i, j, 0], wires=i)\n",
    "        qml.RY(params[i, j, 1], wires=i)\n",
    "        #qml.RZ(params[i, j, 2], wires=i)\n",
    "\n",
    "        for k in range(i+1, nr_qubits):\n",
    "            qml.CRX(params[i, j, 2], wires=[i, k])\n",
    "            qml.CRY(params[i, j, 3], wires=[i, k])\n",
    "            #qml.CRZ(params[i, j, 5], wires=[i, k])\n",
    "            \n",
    "def cnot_layer():\n",
    "    for i in range(nr_qubits - 1):\n",
    "        qml.CNOT(wires=[i, i+1])"
   ]
  },
  {
   "cell_type": "code",
   "execution_count": 7,
   "id": "90d62935",
   "metadata": {},
   "outputs": [],
   "source": [
    "def fixed_layer():\n",
    "    for i in range(nr_qubits):\n",
    "        qml.Hadamard(wires=i)\n",
    "    \n",
    "        for j in range(i+1, nr_qubits):\n",
    "            qml.CNOT(wires=[i, j])"
   ]
  },
  {
   "cell_type": "code",
   "execution_count": 8,
   "id": "2b5ffdbd",
   "metadata": {},
   "outputs": [],
   "source": [
    "dev = qml.device(\"default.qubit\", wires=nr_qubits)"
   ]
  },
  {
   "cell_type": "code",
   "execution_count": 9,
   "id": "74c76d9f",
   "metadata": {},
   "outputs": [],
   "source": [
    "@qml.qnode(dev, interface=\"torch\")\n",
    "def circuit(params, A, wire, input_state):\n",
    "\n",
    "    qml.QubitStateVector(input_state, wires=range(nr_qubits))\n",
    "    \n",
    "    # apply layers in the circuit\n",
    "    for j in range(nr_layers):\n",
    "        rotation_layer(params, j)\n",
    "        if j == 0:\n",
    "            cnot_layer()\n",
    "    \n",
    "    \n",
    "    # returns the expectation of the input matrix A on the given wire\n",
    "    return qml.expval(qml.Hermitian(A, wires=wire))"
   ]
  },
  {
   "cell_type": "code",
   "execution_count": 10,
   "id": "04a3abf8",
   "metadata": {},
   "outputs": [],
   "source": [
    "# cost function for single computed and target couple states\n",
    "def cost_fn_single_state(params, state):\n",
    "    cost = 0\n",
    "    for wire in range(nr_qubits):\n",
    "        for k in range(3):\n",
    "            cost += torch.abs(circuit(params, Paulis[k], wire, state['input']) - state['target'][wire][k])            \n",
    "\n",
    "    return cost / nr_qubits"
   ]
  },
  {
   "cell_type": "code",
   "execution_count": 11,
   "id": "3ce3e1ae",
   "metadata": {},
   "outputs": [],
   "source": [
    "# cost function\n",
    "# cost is the sum of the difference between each pair of computed and target states \n",
    "def cost_fn(params):\n",
    "    cost = 0\n",
    "    for state in states.values():\n",
    "        cost += cost_fn_single_state(params, state)\n",
    "\n",
    "    return cost / nr_states"
   ]
  },
  {
   "cell_type": "code",
   "execution_count": 12,
   "id": "602e7991",
   "metadata": {},
   "outputs": [],
   "source": [
    "total_steps = 0"
   ]
  },
  {
   "cell_type": "code",
   "execution_count": null,
   "id": "b9080eb9",
   "metadata": {},
   "outputs": [
    {
     "name": "stdout",
     "output_type": "stream",
     "text": [
      "Cost after 10 steps is 1.0570\n",
      "Cost after 20 steps is 0.9948\n",
      "Cost after 30 steps is 0.9701\n"
     ]
    }
   ],
   "source": [
    "# Optimization\n",
    "# set up the optimizer\n",
    "opt = torch.optim.Adam([params], lr=0.1)\n",
    "\n",
    "# number of steps in the optimization routine\n",
    "steps = 50\n",
    "\n",
    "# the final stage of optimization isn't always the best, so we keep track of\n",
    "# the best parameters along the way\n",
    "best_cost = cost_fn(params)\n",
    "best_params = np.zeros((nr_qubits, nr_layers, nr_params))\n",
    "\n",
    "# optimization begins\n",
    "for n in range(steps):\n",
    "    opt.zero_grad()\n",
    "    loss = cost_fn(params)\n",
    "    #print(loss)\n",
    "    loss.backward()\n",
    "    opt.step()\n",
    "    \n",
    "    # keeps track of best parameters\n",
    "    if loss < best_cost:\n",
    "        best_cost = loss\n",
    "        best_params = params\n",
    "\n",
    "    # Keep track of progress every 10 steps\n",
    "    if n % 10 == 9 or n == steps - 1:\n",
    "        print(\"Cost after {} steps is {:.4f}\".format(total_steps + n + 1, loss))\n",
    "    \n",
    "params = best_params\n",
    "total_steps += steps"
   ]
  },
  {
   "cell_type": "code",
   "execution_count": null,
   "id": "1518aea9",
   "metadata": {},
   "outputs": [],
   "source": [
    "# calculate the Bloch vector of the output state\n",
    "output_state = [torch.zeros((nr_qubits, 3)) for _ in range(nr_states)]\n",
    "for key, state in states.items():\n",
    "    for wire in range(nr_qubits):\n",
    "        for l in range(3):\n",
    "            output_state[key][wire][l] = circuit(best_params, Paulis[l], wire, state['input'])\n",
    "\n",
    "    for i in range(len(state['target'])):\n",
    "        output_state[key][i] = normalize(output_state[key][i], p=2, dim=0)\n",
    "\n",
    "    # print results\n",
    "    print('Results for input/target states number {}'.format(key+1))\n",
    "    print(\"Target Bloch vector: \\n\", target_states[key])\n",
    "    print(\"Output Bloch vector: \\n\", output_state[key])\n",
    "    print(\"Cost = \", float(cost_fn_single_state(best_params, states[key])))\n",
    "    print('\\n')"
   ]
  },
  {
   "cell_type": "raw",
   "id": "5a92ebf6",
   "metadata": {},
   "source": [
    "drawer = qml.draw(circuit)\n",
    "print(drawer(params=params, A=Paulis[2], wire=0, input_state=input_states[0]))"
   ]
  },
  {
   "cell_type": "raw",
   "id": "f32d7bf0",
   "metadata": {},
   "source": [
    "output_state = np.zeros((nr_qubits, 3))\n",
    "\n",
    "for wire in range(nr_qubits):\n",
    "    for l in range(3):\n",
    "        output_state[wire][l] = circuit(best_params, Paulis[l], wire, create_input_state([one, zero]))\n",
    "        \n",
    "#for i in range(len(target_state)):\n",
    "    #output_state[i] = normalize(output_state[i], p=2, dim=0)\n",
    "\n",
    "# print results\n",
    "#print(\"Target Bloch vector = \", target_states[0].numpy())\n",
    "print(\"Output Bloch vector = \", output_state)"
   ]
  },
  {
   "cell_type": "raw",
   "id": "9c08c231",
   "metadata": {},
   "source": [
    "cost_fn(params)"
   ]
  },
  {
   "cell_type": "raw",
   "id": "eed3c950",
   "metadata": {},
   "source": [
    "plot_bloch_vector(input_state)"
   ]
  },
  {
   "cell_type": "code",
   "execution_count": null,
   "id": "f737b9e1",
   "metadata": {},
   "outputs": [],
   "source": []
  }
 ],
 "metadata": {
  "kernelspec": {
   "display_name": "Python 3",
   "language": "python",
   "name": "python3"
  },
  "language_info": {
   "codemirror_mode": {
    "name": "ipython",
    "version": 3
   },
   "file_extension": ".py",
   "mimetype": "text/x-python",
   "name": "python",
   "nbconvert_exporter": "python",
   "pygments_lexer": "ipython3",
   "version": "3.8.8"
  },
  "varInspector": {
   "cols": {
    "lenName": 16,
    "lenType": 16,
    "lenVar": 40
   },
   "kernels_config": {
    "python": {
     "delete_cmd_postfix": "",
     "delete_cmd_prefix": "del ",
     "library": "var_list.py",
     "varRefreshCmd": "print(var_dic_list())"
    },
    "r": {
     "delete_cmd_postfix": ") ",
     "delete_cmd_prefix": "rm(",
     "library": "var_list.r",
     "varRefreshCmd": "cat(var_dic_list()) "
    }
   },
   "types_to_exclude": [
    "module",
    "function",
    "builtin_function_or_method",
    "instance",
    "_Feature"
   ],
   "window_display": false
  }
 },
 "nbformat": 4,
 "nbformat_minor": 5
}
